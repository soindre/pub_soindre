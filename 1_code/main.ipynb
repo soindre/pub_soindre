{
 "cells": [
  {
   "cell_type": "markdown",
   "metadata": {},
   "source": [
    "# Quantifying the Impact of Sampling Error in Social Vulnerability Index Construction"
   ]
  },
  {
   "cell_type": "markdown",
   "metadata": {},
   "source": [
    "### Downloading VRT"
   ]
  },
  {
   "cell_type": "code",
   "execution_count": null,
   "metadata": {},
   "outputs": [],
   "source": [
    "from data_processing import download_replicates\n",
    "from data_processing import combine_states\n",
    "import os\n",
    "\n",
    "path = os.path.join(os.path.dirname(os.getcwd()))\n",
    "ipath = os.path.join(path,'0_data', 'input')\n",
    "\n",
    "with open(os.path.join(ipath, 'tables_new.txt'), 'r') as f:\n",
    "    table_names = f.read().splitlines()\n",
    "\n",
    "download_replicates(table_names)\n",
    "combine_states() "
   ]
  },
  {
   "cell_type": "markdown",
   "metadata": {},
   "source": [
    "#### Build Denominator"
   ]
  },
  {
   "cell_type": "code",
   "execution_count": null,
   "metadata": {},
   "outputs": [],
   "source": [
    "\n",
    "from replicate_indicators import calculate_denominators\n",
    "from data_processing import load_replicates\n",
    "from csv_file import save_to_csv\n",
    "\n",
    "dataframes, table_names = load_replicates()\n",
    "for name, df in dataframes.items():\n",
    "    exec(f\"{name} = df\")\n",
    "\n",
    "df_denominators = calculate_denominators(dataframes)\n",
    "save_to_csv(df_denominators, 'gitignore', 'df_denominators.csv')  "
   ]
  },
  {
   "cell_type": "markdown",
   "metadata": {},
   "source": [
    "#### Build Indicator"
   ]
  },
  {
   "cell_type": "code",
   "execution_count": null,
   "metadata": {},
   "outputs": [],
   "source": [
    "from replicate_indicators import calculate_indicators\n",
    "from csv_file import save_to_csv\n",
    "\n",
    "df_indicators = calculate_indicators(dataframes)\n",
    "save_to_csv(df_indicators, 'gitignore', 'df_indicators.csv')"
   ]
  },
  {
   "cell_type": "markdown",
   "metadata": {},
   "source": [
    "#### Calculate Nominal Index and MOE of Index"
   ]
  },
  {
   "cell_type": "code",
   "execution_count": null,
   "metadata": {},
   "outputs": [],
   "source": [
    "from csv_file import read_from_csv\n",
    "\n",
    "df_indicators = read_from_csv('df_indicators_continental.csv', 'gitignore/filtered_datasets')\n",
    "df_denominators = read_from_csv('df_denominators_continental.csv', 'gitignore/filtered_datasets')\n",
    "n_indicators = len(df_indicators)\n",
    "n_denominators = len(df_denominators)\n",
    "print(f\"Number of rows in df_indicators: {n_indicators}\")\n",
    "print(f\"Number of rows in df_denominators: {n_denominators}\")\n",
    "\n",
    "# Check how many GEOIDs are not matching\n",
    "ind_geoids = set(df_indicators['GEOID'])\n",
    "den_geoids = set(df_denominators['GEOID'])\n",
    "only_in_ind = ind_geoids - den_geoids\n",
    "only_in_den = den_geoids - ind_geoids\n",
    "print(f\"GEOIDs only in df_indicators: {len(only_in_ind)}\")\n",
    "print(f\"GEOIDs only in df_denominators: {len(only_in_den)}\")"
   ]
  },
  {
   "cell_type": "code",
   "execution_count": null,
   "metadata": {},
   "outputs": [],
   "source": [
    "from calculate_denomination import estimate_denomination\n",
    "from nominal_index import construct_nominal_index\n",
    "from csv_file import save_to_csv, read_from_csv\n",
    "\n",
    "df_indicators = read_from_csv('df_indicators_continental.csv', 'gitignore/filtered_datasets')\n",
    "df_denominators = read_from_csv('df_denominators_continental.csv', 'gitignore/filtered_datasets')\n",
    "\n",
    "# denominate indicators based on Estimate of indicator and denominator\n",
    "df_variables = estimate_denomination(df_indicators, df_denominators)\n",
    "\n",
    "# nominal index construction different configurations\n",
    "nominal_index = construct_nominal_index(df_variables, 'minmax', False, 'arithmetic', 'equal', None)\n",
    "save_to_csv(nominal_index, 'gitignore', 'nominal_index_minmax_no_norm.csv')\n",
    "nominal_index = construct_nominal_index(df_variables, 'minmax', True, 'arithmetic', 'equal', None)\n",
    "save_to_csv(nominal_index, 'gitignore', 'nominal_index_minmax_norm.csv')\n",
    "nominal_index = construct_nominal_index(df_variables, 'pct', False, 'arithmetic', 'equal', None)\n",
    "save_to_csv(nominal_index , 'gitignore', 'nominal_index_pct_no_norm.csv')\n",
    "nominal_index = construct_nominal_index(df_variables, 'pct', True, 'arithmetic', 'equal', None)\n",
    "save_to_csv(nominal_index , 'gitignore', 'nominal_index_pct_norm.csv')\n",
    "nominal_index = construct_nominal_index(df_variables, 'pct', True, 'multiplicative', 'equal', None)\n",
    "save_to_csv(nominal_index , 'gitignore', 'nominal_index_pct_norm_mult_equ.csv')\n",
    "nominal_index = construct_nominal_index(df_variables, 'minmax', True, 'multiplicative', 'equal', None)\n",
    "save_to_csv(nominal_index , 'gitignore', 'nominal_index_minmax_norm_mult_equ.csv')\n",
    "weights = {\"THEME1\": 0.37, \"THEME2\": 0.43, \"THEME3\": 0.18, \"THEME4\": 0.2}\n",
    "nominal_index = construct_nominal_index(df_variables, 'pct', True, 'arithmetic', 'weights', weights)\n",
    "save_to_csv(nominal_index , 'gitignore', 'nominal_index_pct_norm_arith_weights.csv')"
   ]
  },
  {
   "cell_type": "markdown",
   "metadata": {},
   "source": [
    "### Manuscript Results - Section One Moe"
   ]
  },
  {
   "cell_type": "markdown",
   "metadata": {},
   "source": [
    "Geometric Aggregation"
   ]
  },
  {
   "cell_type": "code",
   "execution_count": null,
   "metadata": {},
   "outputs": [],
   "source": [
    "from calculate_denomination import estimate_denomination\n",
    "from nominal_index import construct_nominal_index\n",
    "from csv_file import read_from_csv\n",
    "from moe_stability import plot_moe_distribution_per_bin\n",
    "from replicate_indices import construct_replicate_indices\n",
    "from csv_file import read_from_csv\n",
    "from moe_stability import class_stability, plot_moe\n",
    "import warnings\n",
    "warnings.filterwarnings('ignore')\n",
    "\n",
    "df_indicators = read_from_csv('df_indicators_continental.csv', 'gitignore/filtered_datasets')\n",
    "df_denominators = read_from_csv('df_denominators_continental.csv', 'gitignore/filtered_datasets')\n",
    "\n",
    "# denominate \n",
    "df_variables = estimate_denomination(df_indicators, df_denominators)\n",
    "initial_rows = len(df_variables)\n",
    "df_variables = df_variables.merge(df_denominators[['GEOID', 'E_TOTHH']], on='GEOID', how='left')\n",
    "df_variables = df_variables[df_variables['E_TOTHH'] >= 30].copy()\n",
    "df_variables = df_variables.drop(columns=['E_TOTHH'])\n",
    "final_rows = len(df_variables)\n",
    "rows_removed = initial_rows - final_rows\n",
    "print(f\"Number of rows removed: {rows_removed}\")\n",
    "\n",
    "# Construct nominal index \n",
    "nominal_index = construct_nominal_index(df_variables, 'minmax', True, 'geometric', 'equal', None)\n",
    "print(\"nominal index finished\")\n",
    "df_nominal_index_pct = nominal_index.copy()\n",
    "\n",
    "# VRT\n",
    "var_rep_indices_pct = construct_replicate_indices(df_nominal_index_pct, 'minmax', True , 'geometric', 'equal', None)\n",
    "df_index_moe = class_stability(var_rep_indices_pct)  \n",
    "\n",
    "# Scatterplot\n",
    "fig = plot_moe(df_index_moe, 40, 50)\n",
    "name_fig = '0_geometric_moe_UPDATE'\n",
    "fig.savefig(f\"../2_results/gitignore/{name_fig}.tiff\", dpi=600)\n",
    "fig.savefig(f\"../2_results/gitignore/{name_fig}.pdf\")\n",
    "fig.savefig(f\"../2_results/gitignore/{name_fig}.svg\", format='svg')\n",
    "\n",
    "# Boxplot \n",
    "fig = plot_moe_distribution_per_bin(df_index_moe, plot_type='box',y_max=15, quantile_bins=True, n_quantiles=4)\n",
    "name_fig = '0_geometric_box_quantile'\n",
    "fig.savefig(f\"../2_results/gitignore/{name_fig}.tiff\", dpi=600)\n",
    "fig.savefig(f\"../2_results/gitignore/{name_fig}.pdf\")\n",
    "fig.savefig(f\"../2_results/gitignore/{name_fig}.svg\", format='svg')"
   ]
  },
  {
   "cell_type": "markdown",
   "metadata": {},
   "source": [
    "#### Panel Plot"
   ]
  },
  {
   "cell_type": "markdown",
   "metadata": {},
   "source": [
    "Data"
   ]
  },
  {
   "cell_type": "code",
   "execution_count": null,
   "metadata": {},
   "outputs": [],
   "source": [
    "from replicate_indices import construct_replicate_indices\n",
    "from csv_file import save_to_csv, read_from_csv\n",
    "\n",
    "# A plot \n",
    "df_nominal_index_minmax = read_from_csv('nominal_index_minmax_no_norm.csv', 'gitignore')\n",
    "var_rep_indices_minmax = construct_replicate_indices(df_nominal_index_minmax, 'minmax', False, 'arithmetic', 'equal', None)\n",
    "save_to_csv(var_rep_indices_minmax, 'gitignore/panel_plot', 'var_rep_min_no_norm.csv')\n",
    "\n",
    "\n",
    "# B plot\n",
    "df_nominal_index_minmax = read_from_csv('nominal_index_minmax_norm.csv', 'gitignore')\n",
    "var_rep_indices_minmax = construct_replicate_indices(df_nominal_index_minmax, 'minmax', True, 'arithmetic', 'equal', None)\n",
    "save_to_csv(var_rep_indices_minmax, 'gitignore/panel_plot', 'var_rep_min_norm.csv')\n",
    "\n",
    "# C plot\n",
    "df_nominal_index_pct = read_from_csv('nominal_index_pct_no_norm.csv', 'gitignore')\n",
    "var_rep_indices_pct = construct_replicate_indices(df_nominal_index_pct, 'pct', False, 'arithmetic', 'equal', None)\n",
    "save_to_csv(var_rep_indices_pct, 'gitignore/panel_plot', 'var_rep_pct_no_norm.csv')\n",
    "\n",
    "# D plot\n",
    "df_nominal_index_pct = read_from_csv('nominal_index_pct_norm.csv', 'gitignore')\n",
    "var_rep_indices_pct = construct_replicate_indices(df_nominal_index_pct, 'pct', True, 'arithmetic', 'equal', None)\n",
    "save_to_csv(var_rep_indices_pct, 'gitignore/panel_plot', 'var_rep_pct_norm_arith_equ.csv')"
   ]
  },
  {
   "cell_type": "markdown",
   "metadata": {},
   "source": [
    "Plot"
   ]
  },
  {
   "cell_type": "code",
   "execution_count": null,
   "metadata": {},
   "outputs": [],
   "source": [
    "from csv_file import read_from_csv\n",
    "import matplotlib.pyplot as plt\n",
    "from moe_stability import class_stability\n",
    "from panel_plot import plot_panel\n",
    "\n",
    "# data\n",
    "df_moe_dict = {\n",
    "    'A': class_stability(read_from_csv('var_rep_min_no_norm.csv', '')),\n",
    "    'B': class_stability(read_from_csv('var_rep_min_norm.csv', '')),\n",
    "    'C': class_stability(read_from_csv('var_rep_pct_no_norm.csv', '')),\n",
    "    'D': class_stability(read_from_csv('var_rep_pct_norm_arith_equ.csv', '')),\n",
    "}\n",
    "\n",
    "fig, axes = plt.subplots(2, 2, figsize=(12, 12))\n",
    "axes = axes.flatten()\n",
    "fig.patch.set_facecolor('white')\n",
    "for ax in axes:\n",
    "    ax.set_facecolor('white')\n",
    "labels = ['A', 'B', 'C', 'D']  \n",
    "y_limits = [40, 40, 40, 40]    \n",
    "mappables = []\n",
    "for i, ax in enumerate(axes):\n",
    "    label = labels[i]\n",
    "    df = df_moe_dict[label]\n",
    "    mesh = plot_panel(df, y_limits[i], ax=ax, show_labels=False)\n",
    "    ax.set_xlim(0, 100)\n",
    "    mappables.append(mesh)\n",
    "    ax.text(0.06, 0.98, label, transform=ax.transAxes,\n",
    "            fontsize=14, fontweight='bold', ha='left', va='top')\n",
    "fig.text(0.5, 0.02, 'Social Vulnerability Index-Score', ha='center', fontsize=14)\n",
    "fig.text(0.02, 0.5, 'Margin of Error of Vulnerability Index-Score', va='center',\n",
    "         rotation='vertical', fontsize=14)\n",
    "\n",
    "fig.subplots_adjust(left=0.08, right=0.92, top=0.96, bottom=0.08,\n",
    "                    hspace=0.1, wspace=0.1)\n",
    "\n",
    "fig.colorbar(mappables[-1], ax=axes, orientation='vertical', fraction=0.02, pad=0.02)\n",
    "cbar = ax.figure.axes[-1]  \n",
    "cbar.set_ylabel('Number of Census Tracts', fontsize= 14)\n",
    "fig.savefig(\"../2_results/fig_3_panel.tiff\", dpi=600)\n",
    "fig.savefig(\"../2_results/fig_3_panel.pdf\")\n",
    "fig.savefig(\"../2_results/fig_3_panel.svg\", format='svg')\n",
    "plt.show()"
   ]
  },
  {
   "cell_type": "markdown",
   "metadata": {},
   "source": [
    "### Manuscript Results - Part Two Sensitivity\n",
    "\n",
    "1. Confidence Bounds\n",
    "2. Covariance Structure \n",
    "3. Random Pertubation "
   ]
  },
  {
   "cell_type": "markdown",
   "metadata": {},
   "source": [
    "### Confidence Bounds"
   ]
  },
  {
   "cell_type": "code",
   "execution_count": null,
   "metadata": {},
   "outputs": [],
   "source": [
    "import gsa_moe as gsa\n",
    "from index_weights import dimension_weights\n",
    "from plot_save import plot_sensitivity\n",
    "\n",
    "n = 8192\n",
    "batch_size = 10\n",
    "cpu_cores = 150\n",
    "\n",
    "# Define dimensions and their respective columns\n",
    "dimensions = {\n",
    "        'THEME1': ['HOCOB', 'POVTY', 'NOHIG', 'NOHEA'],\n",
    "        'THEME2': ['AGE65', 'AGE17', 'DISBL', 'SNGPH', 'LANGU'],\n",
    "        'THEME3': ['MINRTY'],\n",
    "        'THEME4': ['MUUNS', 'MOHOM', 'CROWD', 'NOVEH']\n",
    "    }\n",
    "\n",
    "# denomination moe list\n",
    "moe_list = ['estimate', 'lower_bound', 'upper_bound']\n",
    "\n",
    "# normalization list\n",
    "aggregation_list = ['arithmetic', 'geometric']\n",
    "\n",
    "# normalization list\n",
    "normalization_list = ['pct', 'z_score', 'min_max'] \n",
    "\n",
    "# weights list\n",
    "weights_list = dimension_weights()\n",
    "\n",
    "# Define dimensions and their respective columns\n",
    "parameters = {\n",
    "    'normalization': normalization_list,\n",
    "    'aggregation': aggregation_list,\n",
    "    'moe': moe_list,\n",
    "    'weights': weights_list\n",
    "}\n",
    "\n",
    "# conduct global sensitivity analysis\n",
    "sa_results = gsa.get_sensitivity(dimensions.copy(), parameters.copy(), n, 'SA', 500, cpu_cores, batch_size, 'nrq', 'z_score', 'confidence_bounds')\n",
    "\n",
    "fig = plot_sensitivity(sa_results)\n",
    "output_base = \"../2_results/gitignore/0_new_bounds_bz_pzm_N8192\"\n",
    "fig.savefig(f\"{output_base}.tiff\", format='tiff', dpi=600)  \n",
    "fig.savefig(f\"{output_base}.pdf\", format='pdf')             \n",
    "fig.savefig(f\"{output_base}.svg\", format='svg') "
   ]
  },
  {
   "cell_type": "markdown",
   "metadata": {},
   "source": [
    "### Covariance Structure"
   ]
  },
  {
   "cell_type": "code",
   "execution_count": null,
   "metadata": {},
   "outputs": [],
   "source": [
    "import gsa_moe as gsa\n",
    "from index_weights import dimension_weights\n",
    "from plot_save import plot_sensitivity\n",
    "\n",
    "n = 8192\n",
    "batch_size = 10\n",
    "cpu_cores = 150\n",
    "\n",
    "# Define dimensions and their respective columns\n",
    "dimensions = {\n",
    "        'THEME1': ['HOCOB', 'POVTY', 'NOHIG', 'NOHEA'],\n",
    "        'THEME2': ['AGE65', 'AGE17', 'DISBL', 'SNGPH', 'LANGU'],\n",
    "        'THEME3': ['MINRTY'],\n",
    "        'THEME4': ['MUUNS', 'MOHOM', 'CROWD', 'NOVEH']\n",
    "    }\n",
    "\n",
    "# denomination moe list\n",
    "moe_list = ['Estimate'] + [f'RepVar_{i}' for i in range(1, 81)]\n",
    "\n",
    "# normalization list\n",
    "aggregation_list = ['arithmetic', 'geometric']\n",
    "\n",
    "# normalization list\n",
    "normalization_list = ['pct', 'z_score', 'min_max'] \n",
    "\n",
    "# weights list\n",
    "weights_list = dimension_weights()\n",
    "\n",
    "# Define dimensions and their respective columns\n",
    "parameters = {\n",
    "    'normalization': normalization_list,\n",
    "    'aggregation': aggregation_list,\n",
    "    'moe': moe_list,\n",
    "    'weights': weights_list\n",
    "}\n",
    "\n",
    "# conduct global sensitivity analysis\n",
    "sa_results = gsa.get_sensitivity(dimensions.copy(), parameters.copy(), n, 'SA', 500, cpu_cores, batch_size, 'nrq', 'z_score', 'covariance_no_treat')\n",
    "\n",
    "fig = plot_sensitivity(sa_results)\n",
    "output_base = \"../2_results/gitignore/0_new_cov_bz_pzm_N8192\"\n",
    "fig.savefig(f\"{output_base}.tiff\", format='tiff', dpi=600)   \n",
    "fig.savefig(f\"{output_base}.pdf\", format='pdf')             \n",
    "fig.savefig(f\"{output_base}.svg\", format='svg')"
   ]
  },
  {
   "cell_type": "markdown",
   "metadata": {},
   "source": [
    "### Random Pertubation"
   ]
  },
  {
   "cell_type": "code",
   "execution_count": null,
   "metadata": {},
   "outputs": [],
   "source": [
    "import gsa_moe as gsa\n",
    "from index_weights import dimension_weights\n",
    "from plot_save import plot_sensitivity\n",
    "\n",
    "n = 8192\n",
    "batch_size = 10\n",
    "cpu_cores = 150\n",
    "\n",
    "# Define dimensions and their respective columns\n",
    "dimensions = {\n",
    "        'THEME1': ['HOCOB', 'POVTY', 'NOHIG', 'NOHEA'],\n",
    "        'THEME2': ['AGE65', 'AGE17', 'DISBL', 'SNGPH', 'LANGU'],\n",
    "        'THEME3': ['MINRTY'],\n",
    "        'THEME4': ['MUUNS', 'MOHOM', 'CROWD', 'NOVEH']\n",
    "    }\n",
    "\n",
    "# denomination moe list\n",
    "moe_list = ['Estimate'] + [f'RepVar_{i}' for i in range(1, 81)]\n",
    "\n",
    "# normalization list\n",
    "aggregation_list = ['arithmetic', 'geometric']\n",
    "\n",
    "# normalization list\n",
    "normalization_list = ['pct', 'z_score', 'min_max'] \n",
    "\n",
    "# weights list\n",
    "weights_list = dimension_weights()\n",
    "\n",
    "# Define dimensions and their respective columns\n",
    "parameters = {\n",
    "    'normalization': normalization_list,\n",
    "    'aggregation': aggregation_list,\n",
    "    'moe': moe_list,\n",
    "    'weights': weights_list\n",
    "}\n",
    "\n",
    "# conduct global sensitivity analysis\n",
    "sa_results = gsa.get_sensitivity(dimensions.copy(), parameters.copy(), n, 'SA', 500, cpu_cores, batch_size, 'nrq', 'z_score', 'random_no_treat')\n",
    "\n",
    "fig = plot_sensitivity(sa_results)\n",
    "output_base = \"../2_results/gitignore/0_new_rand_bz_pzm_N8192\"\n",
    "fig.savefig(f\"{output_base}.tiff\", format='tiff', dpi=600)   \n",
    "fig.savefig(f\"{output_base}.pdf\", format='pdf')             \n",
    "fig.savefig(f\"{output_base}.svg\", format='svg')"
   ]
  }
 ],
 "metadata": {
  "kernelspec": {
   "display_name": ".venv",
   "language": "python",
   "name": "python3"
  },
  "language_info": {
   "codemirror_mode": {
    "name": "ipython",
    "version": 3
   },
   "file_extension": ".py",
   "mimetype": "text/x-python",
   "name": "python",
   "nbconvert_exporter": "python",
   "pygments_lexer": "ipython3",
   "version": "3.12.10"
  }
 },
 "nbformat": 4,
 "nbformat_minor": 2
}
